{
 "cells": [
  {
   "cell_type": "code",
   "execution_count": 864,
   "metadata": {},
   "outputs": [],
   "source": [
    "#!/usr/bin/env python3\n",
    "# -*- coding: utf-8 -*-"
   ]
  },
  {
   "cell_type": "markdown",
   "metadata": {},
   "source": [
    "# Deep Neural Networks \n",
    "## Lecture 02\n",
    "\n",
    "## Implementation of Perceptron\n"
   ]
  },
  {
   "cell_type": "markdown",
   "metadata": {},
   "source": [
    "## 1. Import Statements"
   ]
  },
  {
   "cell_type": "code",
   "execution_count": 865,
   "metadata": {},
   "outputs": [],
   "source": [
    "###-----------------\n",
    "### Import Libraries\n",
    "###-----------------\n",
    "\n",
    "import numpy as np\n",
    "import pandas as pd\n",
    "import matplotlib.pyplot as plt\n",
    "\n",
    "import seaborn as sns\n",
    "\n",
    "from sklearn import datasets\n",
    "from sklearn.metrics import accuracy_score, confusion_matrix, ConfusionMatrixDisplay\n",
    "from sklearn.model_selection import train_test_split\n",
    "\n",
    "# Changes-----------------------------------\n",
    "import torch\n",
    "import torch.nn as nn\n",
    "import torch.nn.functional as F\n",
    "from torch.autograd import Variable\n",
    "# Changes-----------------------------------\n",
    " \n",
    "%matplotlib inline"
   ]
  },
  {
   "cell_type": "markdown",
   "metadata": {},
   "source": [
    "## 2. Setup Global Parameters"
   ]
  },
  {
   "cell_type": "code",
   "execution_count": 866,
   "metadata": {},
   "outputs": [],
   "source": [
    "###----------------\n",
    "### Some parameters\n",
    "###----------------\n",
    "\n",
    "# Directory locations\n",
    "inpDir = '../../input'\n",
    "outDir = '../output'\n",
    "\n",
    "RANDOM_STATE = 24 # REMEMBER: to remove at the time of promotion to production\n",
    "np.random.seed(RANDOM_STATE)\n",
    "rng = np.random.default_rng(seed = RANDOM_STATE) # Set Random Seed for reproducible  results\n",
    "\n",
    "NOISE = 0.2\n",
    "EPOCHS = 5001  # number of epochs\n",
    "ALPHA = 0.1  # learning rate\n",
    "N_SAMPLES = 1000\n",
    "\n",
    "# parameters for Matplotlib\n",
    "params = {'legend.fontsize': 'medium',\n",
    "          'figure.figsize': (15, 6),\n",
    "          'axes.labelsize': 'large',\n",
    "          'axes.titlesize':'large',\n",
    "          'xtick.labelsize':'large',\n",
    "          'ytick.labelsize':'large'\n",
    "         }\n",
    "\n",
    "plt.rcParams.update(params)\n",
    "\n",
    "CMAP = plt.cm.coolwarm\n",
    "plt.style.use('seaborn-v0_8-darkgrid') # plt.style.use('ggplot')"
   ]
  },
  {
   "cell_type": "markdown",
   "metadata": {},
   "source": [
    "## 3. Generate Data Set\n",
    "\n",
    "Sklearn's dataset generator is good source of data for learning. To keep the example simple, I'll suggest  <a href=\"http://scikit-learn.org/stable/modules/generated/sklearn.datasets.make_moons.html\">make_moon</a> dataset generator.\n"
   ]
  },
  {
   "cell_type": "code",
   "execution_count": 867,
   "metadata": {},
   "outputs": [
    {
     "data": {
      "text/plain": [
       "((1000, 2), (1000,))"
      ]
     },
     "execution_count": 867,
     "metadata": {},
     "output_type": "execute_result"
    }
   ],
   "source": [
    "X, y = datasets.make_moons(n_samples=N_SAMPLES, \n",
    "                           shuffle=True, \n",
    "                           noise=NOISE, \n",
    "                           random_state=RANDOM_STATE)\n",
    "X.shape, y.shape"
   ]
  },
  {
   "cell_type": "markdown",
   "metadata": {},
   "source": [
    "## 4. Visualization\n",
    "\n",
    "DataFrames are easier to visualize\n"
   ]
  },
  {
   "cell_type": "code",
   "execution_count": 868,
   "metadata": {},
   "outputs": [
    {
     "data": {
      "text/html": [
       "<div>\n",
       "<style scoped>\n",
       "    .dataframe tbody tr th:only-of-type {\n",
       "        vertical-align: middle;\n",
       "    }\n",
       "\n",
       "    .dataframe tbody tr th {\n",
       "        vertical-align: top;\n",
       "    }\n",
       "\n",
       "    .dataframe thead th {\n",
       "        text-align: right;\n",
       "    }\n",
       "</style>\n",
       "<table border=\"1\" class=\"dataframe\">\n",
       "  <thead>\n",
       "    <tr style=\"text-align: right;\">\n",
       "      <th></th>\n",
       "      <th>A</th>\n",
       "      <th>B</th>\n",
       "      <th>target</th>\n",
       "    </tr>\n",
       "  </thead>\n",
       "  <tbody>\n",
       "    <tr>\n",
       "      <th>0</th>\n",
       "      <td>0.906340</td>\n",
       "      <td>0.902676</td>\n",
       "      <td>0</td>\n",
       "    </tr>\n",
       "    <tr>\n",
       "      <th>1</th>\n",
       "      <td>-1.115368</td>\n",
       "      <td>0.755793</td>\n",
       "      <td>0</td>\n",
       "    </tr>\n",
       "    <tr>\n",
       "      <th>2</th>\n",
       "      <td>1.887692</td>\n",
       "      <td>0.417597</td>\n",
       "      <td>1</td>\n",
       "    </tr>\n",
       "    <tr>\n",
       "      <th>3</th>\n",
       "      <td>-0.933450</td>\n",
       "      <td>-0.022999</td>\n",
       "      <td>0</td>\n",
       "    </tr>\n",
       "    <tr>\n",
       "      <th>4</th>\n",
       "      <td>-0.968729</td>\n",
       "      <td>0.063963</td>\n",
       "      <td>0</td>\n",
       "    </tr>\n",
       "  </tbody>\n",
       "</table>\n",
       "</div>"
      ],
      "text/plain": [
       "          A         B  target\n",
       "0  0.906340  0.902676       0\n",
       "1 -1.115368  0.755793       0\n",
       "2  1.887692  0.417597       1\n",
       "3 -0.933450 -0.022999       0\n",
       "4 -0.968729  0.063963       0"
      ]
     },
     "execution_count": 868,
     "metadata": {},
     "output_type": "execute_result"
    }
   ],
   "source": [
    "data_df = pd.DataFrame(X, columns=['A', 'B'])\n",
    "data_df['target'] = y\n",
    "data_df.head()"
   ]
  },
  {
   "cell_type": "markdown",
   "metadata": {},
   "source": [
    "<div style=\"font-family: Arial; font-size:1.2em;\">\n",
    "    We will keep 10%, i.e. 100 records for testing and remaining records will be used in training. Note that the data is already random.\n",
    "</div>"
   ]
  },
  {
   "cell_type": "code",
   "execution_count": 869,
   "metadata": {},
   "outputs": [
    {
     "data": {
      "text/plain": [
       "((900, 2), (100, 2), (900,), (100,))"
      ]
     },
     "execution_count": 869,
     "metadata": {},
     "output_type": "execute_result"
    }
   ],
   "source": [
    "x_train = X[:900]\n",
    "x_test = X[900:]\n",
    "y_train = y[:900]\n",
    "y_test = y[900:]\n",
    "\n",
    "x_train.shape, x_test.shape, y_train.shape, y_test.shape"
   ]
  },
  {
   "cell_type": "markdown",
   "metadata": {},
   "source": [
    "# Over to Perceptron"
   ]
  },
  {
   "cell_type": "markdown",
   "metadata": {},
   "source": [
    "<div style=\"font-family: Arial; font-size:1.1em;\">\n",
    "\n",
    "Our output is binary. To keep the code in line with what we discussed in the lecture, we will simply output 1 for positive values of 'z' and zero for negative values.\n",
    "</div>\n",
    "\n",
    "<img src=\"../../images/dnn_nb_s03_fig1.png\" width='350' align = 'left'>\n",
    "\n",
    "\n",
    "$$\n",
    "\\begin{aligned}\n",
    "z & = 1.0 \\circ w_0 + x_1 \\circ w_1 + x_2 \\circ w_2 \\\\\n",
    "\\mathrm{or}\\\\\n",
    "z & = X\\circ W \\\\\n",
    "\\end{aligned}\n",
    "$$\n",
    "<br/>\n",
    "\n",
    "\n",
    "$$\n",
    "\\begin{equation*}\n",
    "    \\hat{y} = \\begin{cases}\n",
    "      1.0, & \\text{for z>=0}\\  \\\\\n",
    "      0.0, & \\text{for z<0}\\\n",
    "    \\end{cases}\n",
    "\\end{equation*}\n",
    "$$"
   ]
  },
  {
   "cell_type": "code",
   "execution_count": 870,
   "metadata": {},
   "outputs": [
    {
     "data": {
      "text/plain": [
       "'12.1'"
      ]
     },
     "execution_count": 870,
     "metadata": {},
     "output_type": "execute_result"
    }
   ],
   "source": [
    "torch.version.cuda"
   ]
  },
  {
   "cell_type": "code",
   "execution_count": 871,
   "metadata": {},
   "outputs": [
    {
     "data": {
      "text/plain": [
       "0"
      ]
     },
     "execution_count": 871,
     "metadata": {},
     "output_type": "execute_result"
    }
   ],
   "source": [
    "torch.cuda.current_device()"
   ]
  },
  {
   "cell_type": "code",
   "execution_count": 872,
   "metadata": {},
   "outputs": [
    {
     "data": {
      "text/plain": [
       "'NVIDIA GeForce GTX 1650'"
      ]
     },
     "execution_count": 872,
     "metadata": {},
     "output_type": "execute_result"
    }
   ],
   "source": [
    "torch.cuda.get_device_name(torch.cuda.current_device())"
   ]
  },
  {
   "cell_type": "code",
   "execution_count": 873,
   "metadata": {},
   "outputs": [
    {
     "data": {
      "text/plain": [
       "'cuda'"
      ]
     },
     "execution_count": 873,
     "metadata": {},
     "output_type": "execute_result"
    }
   ],
   "source": [
    "device = \"cuda\" if torch.cuda.is_available() else \"cpu\"\n",
    "device"
   ]
  },
  {
   "cell_type": "code",
   "execution_count": 874,
   "metadata": {},
   "outputs": [],
   "source": [
    "class Model(nn.Module):\n",
    "    def __init__(self, input_dim):\n",
    "        super(Model, self).__init__()\n",
    "\n",
    "        self.layer1 = nn.Linear(input_dim, 1)\n",
    "        self.sigmoid = nn.Sigmoid()\n",
    "\n",
    "    def forward(self, x):\n",
    "        x = self.layer1(x)  # layer 1\n",
    "        x = self.sigmoid(x)\n",
    "        return x"
   ]
  },
  {
   "cell_type": "code",
   "execution_count": 875,
   "metadata": {},
   "outputs": [
    {
     "name": "stdout",
     "output_type": "stream",
     "text": [
      "Model(\n",
      "  (layer1): Linear(in_features=2, out_features=1, bias=True)\n",
      "  (sigmoid): Sigmoid()\n",
      ")\n"
     ]
    }
   ],
   "source": [
    "model = Model(X.shape[1]).to(device)\n",
    "print(model)"
   ]
  },
  {
   "cell_type": "code",
   "execution_count": 876,
   "metadata": {},
   "outputs": [
    {
     "data": {
      "text/plain": [
       "[Parameter containing:\n",
       " tensor([[-0.5124,  0.0555]], device='cuda:0', requires_grad=True),\n",
       " Parameter containing:\n",
       " tensor([-0.4639], device='cuda:0', requires_grad=True)]"
      ]
     },
     "execution_count": 876,
     "metadata": {},
     "output_type": "execute_result"
    }
   ],
   "source": [
    "list(model.parameters())"
   ]
  },
  {
   "cell_type": "code",
   "execution_count": 877,
   "metadata": {},
   "outputs": [
    {
     "name": "stdout",
     "output_type": "stream",
     "text": [
      " Number of parameters 2\n"
     ]
    }
   ],
   "source": [
    "print(f\" Number of parameters {len(list(model.parameters()))}\")"
   ]
  },
  {
   "cell_type": "code",
   "execution_count": 878,
   "metadata": {},
   "outputs": [
    {
     "name": "stdout",
     "output_type": "stream",
     "text": [
      " Layer 1 Weights torch.Size([1, 2])\n",
      " Layer 1 Bias    torch.Size([1])\n"
     ]
    }
   ],
   "source": [
    "print(f\" Layer 1 Weights {(list(model.parameters())[0].shape)}\")\n",
    "print(f\" Layer 1 Bias    {(list(model.parameters())[1].shape)}\")\n"
   ]
  },
  {
   "cell_type": "code",
   "execution_count": 879,
   "metadata": {},
   "outputs": [
    {
     "data": {
      "text/plain": [
       "(torch.Size([900, 2]),\n",
       " torch.Size([900]),\n",
       " torch.Size([100, 2]),\n",
       " torch.Size([100]))"
      ]
     },
     "execution_count": 879,
     "metadata": {},
     "output_type": "execute_result"
    }
   ],
   "source": [
    "train_X = Variable(torch.Tensor(x_train)).to(device)\n",
    "train_y = Variable(torch.Tensor(y_train)).to(device)\n",
    "test_X = Variable(torch.Tensor(x_test)).to(device)\n",
    "test_y = Variable(torch.Tensor(y_test)).to(device)\n",
    "train_X.shape, train_y.shape, test_X.shape, test_y.shape"
   ]
  },
  {
   "cell_type": "code",
   "execution_count": 881,
   "metadata": {},
   "outputs": [
    {
     "name": "stdout",
     "output_type": "stream",
     "text": [
      "Epoch: 0 | Loss: 0.73501, Accuracy: 0.42% | Test loss: 0.75704, Test acc: 0.58%\n",
      "Epoch: 10 | Loss: 0.64931, Accuracy: 0.52% | Test loss: 0.65591, Test acc: 0.67%\n",
      "Epoch: 20 | Loss: 0.60496, Accuracy: 0.81% | Test loss: 0.61448, Test acc: 0.89%\n",
      "Epoch: 30 | Loss: 0.59262, Accuracy: 0.83% | Test loss: 0.60113, Test acc: 0.89%\n",
      "Epoch: 40 | Loss: 0.58508, Accuracy: 0.83% | Test loss: 0.59370, Test acc: 0.89%\n",
      "Epoch: 50 | Loss: 0.58098, Accuracy: 0.84% | Test loss: 0.59005, Test acc: 0.88%\n",
      "Epoch: 60 | Loss: 0.57799, Accuracy: 0.84% | Test loss: 0.58743, Test acc: 0.89%\n",
      "Epoch: 70 | Loss: 0.57573, Accuracy: 0.85% | Test loss: 0.58559, Test acc: 0.90%\n",
      "Epoch: 80 | Loss: 0.57400, Accuracy: 0.85% | Test loss: 0.58418, Test acc: 0.90%\n",
      "Epoch: 90 | Loss: 0.57263, Accuracy: 0.85% | Test loss: 0.58303, Test acc: 0.90%\n",
      "Epoch: 100 | Loss: 0.57154, Accuracy: 0.85% | Test loss: 0.58210, Test acc: 0.90%\n",
      "Epoch: 110 | Loss: 0.57065, Accuracy: 0.86% | Test loss: 0.58134, Test acc: 0.90%\n",
      "Epoch: 120 | Loss: 0.56991, Accuracy: 0.86% | Test loss: 0.58070, Test acc: 0.91%\n",
      "Epoch: 130 | Loss: 0.56927, Accuracy: 0.86% | Test loss: 0.58014, Test acc: 0.91%\n",
      "Epoch: 140 | Loss: 0.56873, Accuracy: 0.86% | Test loss: 0.57965, Test acc: 0.91%\n",
      "Epoch: 150 | Loss: 0.56825, Accuracy: 0.86% | Test loss: 0.57922, Test acc: 0.91%\n",
      "Epoch: 160 | Loss: 0.56783, Accuracy: 0.86% | Test loss: 0.57886, Test acc: 0.91%\n",
      "Epoch: 170 | Loss: 0.56745, Accuracy: 0.86% | Test loss: 0.57853, Test acc: 0.91%\n",
      "Epoch: 180 | Loss: 0.56712, Accuracy: 0.86% | Test loss: 0.57824, Test acc: 0.91%\n",
      "Epoch: 190 | Loss: 0.56682, Accuracy: 0.86% | Test loss: 0.57798, Test acc: 0.91%\n",
      "Epoch: 200 | Loss: 0.56654, Accuracy: 0.86% | Test loss: 0.57776, Test acc: 0.91%\n",
      "Epoch: 210 | Loss: 0.56630, Accuracy: 0.86% | Test loss: 0.57755, Test acc: 0.91%\n",
      "Epoch: 220 | Loss: 0.56607, Accuracy: 0.86% | Test loss: 0.57736, Test acc: 0.91%\n",
      "Epoch: 230 | Loss: 0.56586, Accuracy: 0.86% | Test loss: 0.57719, Test acc: 0.91%\n",
      "Epoch: 240 | Loss: 0.56567, Accuracy: 0.86% | Test loss: 0.57704, Test acc: 0.91%\n",
      "Epoch: 250 | Loss: 0.56549, Accuracy: 0.86% | Test loss: 0.57690, Test acc: 0.91%\n",
      "Epoch: 260 | Loss: 0.56533, Accuracy: 0.86% | Test loss: 0.57677, Test acc: 0.91%\n",
      "Epoch: 270 | Loss: 0.56518, Accuracy: 0.86% | Test loss: 0.57666, Test acc: 0.91%\n",
      "Epoch: 280 | Loss: 0.56504, Accuracy: 0.86% | Test loss: 0.57655, Test acc: 0.91%\n",
      "Epoch: 290 | Loss: 0.56490, Accuracy: 0.86% | Test loss: 0.57645, Test acc: 0.91%\n"
     ]
    },
    {
     "name": "stdout",
     "output_type": "stream",
     "text": [
      "Epoch: 300 | Loss: 0.56478, Accuracy: 0.86% | Test loss: 0.57636, Test acc: 0.91%\n",
      "Epoch: 310 | Loss: 0.56466, Accuracy: 0.86% | Test loss: 0.57628, Test acc: 0.91%\n",
      "Epoch: 320 | Loss: 0.56455, Accuracy: 0.86% | Test loss: 0.57620, Test acc: 0.91%\n",
      "Epoch: 330 | Loss: 0.56445, Accuracy: 0.86% | Test loss: 0.57613, Test acc: 0.91%\n",
      "Epoch: 340 | Loss: 0.56435, Accuracy: 0.86% | Test loss: 0.57607, Test acc: 0.91%\n",
      "Epoch: 350 | Loss: 0.56426, Accuracy: 0.86% | Test loss: 0.57600, Test acc: 0.91%\n",
      "Epoch: 360 | Loss: 0.56417, Accuracy: 0.86% | Test loss: 0.57595, Test acc: 0.91%\n",
      "Epoch: 370 | Loss: 0.56409, Accuracy: 0.86% | Test loss: 0.57589, Test acc: 0.91%\n",
      "Epoch: 380 | Loss: 0.56401, Accuracy: 0.86% | Test loss: 0.57585, Test acc: 0.91%\n",
      "Epoch: 390 | Loss: 0.56394, Accuracy: 0.86% | Test loss: 0.57580, Test acc: 0.91%\n",
      "Epoch: 400 | Loss: 0.56387, Accuracy: 0.86% | Test loss: 0.57576, Test acc: 0.90%\n",
      "Epoch: 410 | Loss: 0.56380, Accuracy: 0.86% | Test loss: 0.57572, Test acc: 0.90%\n",
      "Epoch: 420 | Loss: 0.56373, Accuracy: 0.86% | Test loss: 0.57568, Test acc: 0.90%\n",
      "Epoch: 430 | Loss: 0.56367, Accuracy: 0.86% | Test loss: 0.57565, Test acc: 0.90%\n",
      "Epoch: 440 | Loss: 0.56361, Accuracy: 0.86% | Test loss: 0.57561, Test acc: 0.90%\n",
      "Epoch: 450 | Loss: 0.56356, Accuracy: 0.86% | Test loss: 0.57558, Test acc: 0.90%\n",
      "Epoch: 460 | Loss: 0.56350, Accuracy: 0.86% | Test loss: 0.57555, Test acc: 0.90%\n",
      "Epoch: 470 | Loss: 0.56345, Accuracy: 0.86% | Test loss: 0.57553, Test acc: 0.90%\n",
      "Epoch: 480 | Loss: 0.56340, Accuracy: 0.86% | Test loss: 0.57550, Test acc: 0.90%\n",
      "Epoch: 490 | Loss: 0.56335, Accuracy: 0.86% | Test loss: 0.57548, Test acc: 0.90%\n",
      "Epoch: 500 | Loss: 0.56330, Accuracy: 0.86% | Test loss: 0.57546, Test acc: 0.90%\n",
      "Epoch: 510 | Loss: 0.56326, Accuracy: 0.86% | Test loss: 0.57544, Test acc: 0.90%\n",
      "Epoch: 520 | Loss: 0.56322, Accuracy: 0.86% | Test loss: 0.57542, Test acc: 0.90%\n",
      "Epoch: 530 | Loss: 0.56317, Accuracy: 0.86% | Test loss: 0.57540, Test acc: 0.90%\n",
      "Epoch: 540 | Loss: 0.56313, Accuracy: 0.86% | Test loss: 0.57538, Test acc: 0.90%\n",
      "Epoch: 550 | Loss: 0.56309, Accuracy: 0.87% | Test loss: 0.57537, Test acc: 0.90%\n",
      "Epoch: 560 | Loss: 0.56306, Accuracy: 0.87% | Test loss: 0.57535, Test acc: 0.90%\n",
      "Epoch: 570 | Loss: 0.56302, Accuracy: 0.87% | Test loss: 0.57534, Test acc: 0.90%\n",
      "Epoch: 580 | Loss: 0.56298, Accuracy: 0.86% | Test loss: 0.57533, Test acc: 0.90%\n",
      "Epoch: 590 | Loss: 0.56295, Accuracy: 0.86% | Test loss: 0.57532, Test acc: 0.90%\n",
      "Epoch: 600 | Loss: 0.56292, Accuracy: 0.86% | Test loss: 0.57531, Test acc: 0.90%\n",
      "Epoch: 610 | Loss: 0.56289, Accuracy: 0.86% | Test loss: 0.57529, Test acc: 0.90%\n",
      "Epoch: 620 | Loss: 0.56285, Accuracy: 0.86% | Test loss: 0.57529, Test acc: 0.90%\n",
      "Epoch: 630 | Loss: 0.56282, Accuracy: 0.86% | Test loss: 0.57528, Test acc: 0.90%\n",
      "Epoch: 640 | Loss: 0.56279, Accuracy: 0.86% | Test loss: 0.57527, Test acc: 0.90%\n",
      "Epoch: 650 | Loss: 0.56277, Accuracy: 0.86% | Test loss: 0.57526, Test acc: 0.90%\n",
      "Epoch: 660 | Loss: 0.56274, Accuracy: 0.86% | Test loss: 0.57525, Test acc: 0.90%\n",
      "Epoch: 670 | Loss: 0.56271, Accuracy: 0.86% | Test loss: 0.57525, Test acc: 0.90%\n",
      "Epoch: 680 | Loss: 0.56268, Accuracy: 0.86% | Test loss: 0.57524, Test acc: 0.90%\n",
      "Epoch: 690 | Loss: 0.56266, Accuracy: 0.86% | Test loss: 0.57524, Test acc: 0.90%\n",
      "Epoch: 700 | Loss: 0.56263, Accuracy: 0.87% | Test loss: 0.57523, Test acc: 0.90%\n",
      "Epoch: 710 | Loss: 0.56261, Accuracy: 0.87% | Test loss: 0.57523, Test acc: 0.90%\n",
      "Epoch: 720 | Loss: 0.56259, Accuracy: 0.87% | Test loss: 0.57522, Test acc: 0.90%\n",
      "Epoch: 730 | Loss: 0.56256, Accuracy: 0.87% | Test loss: 0.57522, Test acc: 0.90%\n",
      "Epoch: 740 | Loss: 0.56254, Accuracy: 0.87% | Test loss: 0.57521, Test acc: 0.90%\n",
      "Epoch: 750 | Loss: 0.56252, Accuracy: 0.87% | Test loss: 0.57521, Test acc: 0.90%\n",
      "Epoch: 760 | Loss: 0.56250, Accuracy: 0.87% | Test loss: 0.57521, Test acc: 0.90%\n",
      "Epoch: 770 | Loss: 0.56248, Accuracy: 0.87% | Test loss: 0.57521, Test acc: 0.90%\n",
      "Epoch: 780 | Loss: 0.56245, Accuracy: 0.87% | Test loss: 0.57520, Test acc: 0.90%\n",
      "Epoch: 790 | Loss: 0.56243, Accuracy: 0.87% | Test loss: 0.57520, Test acc: 0.90%\n",
      "Epoch: 800 | Loss: 0.56242, Accuracy: 0.87% | Test loss: 0.57520, Test acc: 0.90%\n",
      "Epoch: 810 | Loss: 0.56240, Accuracy: 0.87% | Test loss: 0.57520, Test acc: 0.90%\n",
      "Epoch: 820 | Loss: 0.56238, Accuracy: 0.87% | Test loss: 0.57520, Test acc: 0.90%\n",
      "Epoch: 830 | Loss: 0.56236, Accuracy: 0.87% | Test loss: 0.57520, Test acc: 0.90%\n",
      "Epoch: 840 | Loss: 0.56234, Accuracy: 0.87% | Test loss: 0.57520, Test acc: 0.90%\n",
      "Epoch: 850 | Loss: 0.56232, Accuracy: 0.87% | Test loss: 0.57520, Test acc: 0.90%\n",
      "Epoch: 860 | Loss: 0.56231, Accuracy: 0.87% | Test loss: 0.57520, Test acc: 0.90%\n",
      "Epoch: 870 | Loss: 0.56229, Accuracy: 0.87% | Test loss: 0.57520, Test acc: 0.90%\n",
      "Epoch: 880 | Loss: 0.56227, Accuracy: 0.87% | Test loss: 0.57520, Test acc: 0.90%\n",
      "Epoch: 890 | Loss: 0.56226, Accuracy: 0.87% | Test loss: 0.57520, Test acc: 0.90%\n",
      "Epoch: 900 | Loss: 0.56224, Accuracy: 0.87% | Test loss: 0.57520, Test acc: 0.90%\n",
      "Epoch: 910 | Loss: 0.56222, Accuracy: 0.87% | Test loss: 0.57520, Test acc: 0.90%\n",
      "Epoch: 920 | Loss: 0.56221, Accuracy: 0.87% | Test loss: 0.57520, Test acc: 0.90%\n",
      "Epoch: 930 | Loss: 0.56219, Accuracy: 0.87% | Test loss: 0.57520, Test acc: 0.90%\n",
      "Epoch: 940 | Loss: 0.56218, Accuracy: 0.87% | Test loss: 0.57520, Test acc: 0.90%\n",
      "Epoch: 950 | Loss: 0.56216, Accuracy: 0.87% | Test loss: 0.57520, Test acc: 0.90%\n",
      "Epoch: 960 | Loss: 0.56215, Accuracy: 0.87% | Test loss: 0.57520, Test acc: 0.90%\n",
      "Epoch: 970 | Loss: 0.56214, Accuracy: 0.87% | Test loss: 0.57520, Test acc: 0.90%\n",
      "Epoch: 980 | Loss: 0.56212, Accuracy: 0.87% | Test loss: 0.57521, Test acc: 0.90%\n",
      "Epoch: 990 | Loss: 0.56211, Accuracy: 0.87% | Test loss: 0.57521, Test acc: 0.90%\n",
      "Epoch: 1000 | Loss: 0.56210, Accuracy: 0.87% | Test loss: 0.57521, Test acc: 0.90%\n",
      "Epoch: 1010 | Loss: 0.56208, Accuracy: 0.87% | Test loss: 0.57521, Test acc: 0.90%\n",
      "Epoch: 1020 | Loss: 0.56207, Accuracy: 0.87% | Test loss: 0.57521, Test acc: 0.90%\n",
      "Epoch: 1030 | Loss: 0.56206, Accuracy: 0.87% | Test loss: 0.57522, Test acc: 0.90%\n",
      "Epoch: 1040 | Loss: 0.56204, Accuracy: 0.87% | Test loss: 0.57522, Test acc: 0.90%\n",
      "Epoch: 1050 | Loss: 0.56203, Accuracy: 0.87% | Test loss: 0.57522, Test acc: 0.90%\n",
      "Epoch: 1060 | Loss: 0.56202, Accuracy: 0.87% | Test loss: 0.57522, Test acc: 0.90%\n",
      "Epoch: 1070 | Loss: 0.56201, Accuracy: 0.87% | Test loss: 0.57522, Test acc: 0.90%\n",
      "Epoch: 1080 | Loss: 0.56200, Accuracy: 0.87% | Test loss: 0.57523, Test acc: 0.90%\n",
      "Epoch: 1090 | Loss: 0.56199, Accuracy: 0.87% | Test loss: 0.57523, Test acc: 0.90%\n",
      "Epoch: 1100 | Loss: 0.56197, Accuracy: 0.87% | Test loss: 0.57523, Test acc: 0.90%\n",
      "Epoch: 1110 | Loss: 0.56196, Accuracy: 0.87% | Test loss: 0.57524, Test acc: 0.90%\n",
      "Epoch: 1120 | Loss: 0.56195, Accuracy: 0.87% | Test loss: 0.57524, Test acc: 0.90%\n",
      "Epoch: 1130 | Loss: 0.56194, Accuracy: 0.87% | Test loss: 0.57524, Test acc: 0.90%\n",
      "Epoch: 1140 | Loss: 0.56193, Accuracy: 0.87% | Test loss: 0.57524, Test acc: 0.90%\n",
      "Epoch: 1150 | Loss: 0.56192, Accuracy: 0.87% | Test loss: 0.57525, Test acc: 0.90%\n",
      "Epoch: 1160 | Loss: 0.56191, Accuracy: 0.87% | Test loss: 0.57525, Test acc: 0.90%\n",
      "Epoch: 1170 | Loss: 0.56190, Accuracy: 0.87% | Test loss: 0.57525, Test acc: 0.90%\n",
      "Epoch: 1180 | Loss: 0.56189, Accuracy: 0.87% | Test loss: 0.57526, Test acc: 0.90%\n",
      "Epoch: 1190 | Loss: 0.56188, Accuracy: 0.87% | Test loss: 0.57526, Test acc: 0.90%\n",
      "Epoch: 1200 | Loss: 0.56187, Accuracy: 0.87% | Test loss: 0.57526, Test acc: 0.90%\n",
      "Epoch: 1210 | Loss: 0.56186, Accuracy: 0.87% | Test loss: 0.57527, Test acc: 0.90%\n",
      "Epoch: 1220 | Loss: 0.56185, Accuracy: 0.87% | Test loss: 0.57527, Test acc: 0.90%\n",
      "Epoch: 1230 | Loss: 0.56184, Accuracy: 0.87% | Test loss: 0.57527, Test acc: 0.90%\n",
      "Epoch: 1240 | Loss: 0.56183, Accuracy: 0.87% | Test loss: 0.57528, Test acc: 0.90%\n",
      "Epoch: 1250 | Loss: 0.56182, Accuracy: 0.87% | Test loss: 0.57528, Test acc: 0.90%\n",
      "Epoch: 1260 | Loss: 0.56181, Accuracy: 0.87% | Test loss: 0.57528, Test acc: 0.90%\n",
      "Epoch: 1270 | Loss: 0.56180, Accuracy: 0.87% | Test loss: 0.57529, Test acc: 0.90%\n",
      "Epoch: 1280 | Loss: 0.56180, Accuracy: 0.87% | Test loss: 0.57529, Test acc: 0.90%\n",
      "Epoch: 1290 | Loss: 0.56179, Accuracy: 0.87% | Test loss: 0.57529, Test acc: 0.90%\n",
      "Epoch: 1300 | Loss: 0.56178, Accuracy: 0.87% | Test loss: 0.57530, Test acc: 0.90%\n",
      "Epoch: 1310 | Loss: 0.56177, Accuracy: 0.87% | Test loss: 0.57530, Test acc: 0.90%\n",
      "Epoch: 1320 | Loss: 0.56176, Accuracy: 0.87% | Test loss: 0.57530, Test acc: 0.90%\n",
      "Epoch: 1330 | Loss: 0.56175, Accuracy: 0.87% | Test loss: 0.57531, Test acc: 0.90%\n",
      "Epoch: 1340 | Loss: 0.56174, Accuracy: 0.87% | Test loss: 0.57531, Test acc: 0.90%\n",
      "Epoch: 1350 | Loss: 0.56174, Accuracy: 0.87% | Test loss: 0.57532, Test acc: 0.90%\n",
      "Epoch: 1360 | Loss: 0.56173, Accuracy: 0.87% | Test loss: 0.57532, Test acc: 0.90%\n",
      "Epoch: 1370 | Loss: 0.56172, Accuracy: 0.87% | Test loss: 0.57532, Test acc: 0.90%\n",
      "Epoch: 1380 | Loss: 0.56171, Accuracy: 0.87% | Test loss: 0.57533, Test acc: 0.90%\n",
      "Epoch: 1390 | Loss: 0.56170, Accuracy: 0.87% | Test loss: 0.57533, Test acc: 0.90%\n",
      "Epoch: 1400 | Loss: 0.56170, Accuracy: 0.87% | Test loss: 0.57533, Test acc: 0.90%\n",
      "Epoch: 1410 | Loss: 0.56169, Accuracy: 0.87% | Test loss: 0.57534, Test acc: 0.90%\n",
      "Epoch: 1420 | Loss: 0.56168, Accuracy: 0.87% | Test loss: 0.57534, Test acc: 0.90%\n",
      "Epoch: 1430 | Loss: 0.56167, Accuracy: 0.87% | Test loss: 0.57534, Test acc: 0.90%\n",
      "Epoch: 1440 | Loss: 0.56167, Accuracy: 0.87% | Test loss: 0.57535, Test acc: 0.90%\n",
      "Epoch: 1450 | Loss: 0.56166, Accuracy: 0.87% | Test loss: 0.57535, Test acc: 0.90%\n",
      "Epoch: 1460 | Loss: 0.56165, Accuracy: 0.87% | Test loss: 0.57536, Test acc: 0.90%\n",
      "Epoch: 1470 | Loss: 0.56165, Accuracy: 0.87% | Test loss: 0.57536, Test acc: 0.90%\n",
      "Epoch: 1480 | Loss: 0.56164, Accuracy: 0.87% | Test loss: 0.57536, Test acc: 0.90%\n",
      "Epoch: 1490 | Loss: 0.56163, Accuracy: 0.87% | Test loss: 0.57537, Test acc: 0.90%\n",
      "Epoch: 1500 | Loss: 0.56162, Accuracy: 0.87% | Test loss: 0.57537, Test acc: 0.90%\n",
      "Epoch: 1510 | Loss: 0.56162, Accuracy: 0.87% | Test loss: 0.57538, Test acc: 0.90%\n",
      "Epoch: 1520 | Loss: 0.56161, Accuracy: 0.87% | Test loss: 0.57538, Test acc: 0.90%\n",
      "Epoch: 1530 | Loss: 0.56160, Accuracy: 0.87% | Test loss: 0.57538, Test acc: 0.90%\n",
      "Epoch: 1540 | Loss: 0.56160, Accuracy: 0.87% | Test loss: 0.57539, Test acc: 0.90%\n",
      "Epoch: 1550 | Loss: 0.56159, Accuracy: 0.87% | Test loss: 0.57539, Test acc: 0.90%\n",
      "Epoch: 1560 | Loss: 0.56158, Accuracy: 0.87% | Test loss: 0.57539, Test acc: 0.90%\n",
      "Epoch: 1570 | Loss: 0.56158, Accuracy: 0.87% | Test loss: 0.57540, Test acc: 0.90%\n",
      "Epoch: 1580 | Loss: 0.56157, Accuracy: 0.87% | Test loss: 0.57540, Test acc: 0.90%\n",
      "Epoch: 1590 | Loss: 0.56157, Accuracy: 0.87% | Test loss: 0.57541, Test acc: 0.90%\n",
      "Epoch: 1600 | Loss: 0.56156, Accuracy: 0.87% | Test loss: 0.57541, Test acc: 0.90%\n",
      "Epoch: 1610 | Loss: 0.56155, Accuracy: 0.87% | Test loss: 0.57541, Test acc: 0.90%\n",
      "Epoch: 1620 | Loss: 0.56155, Accuracy: 0.87% | Test loss: 0.57542, Test acc: 0.90%\n",
      "Epoch: 1630 | Loss: 0.56154, Accuracy: 0.87% | Test loss: 0.57542, Test acc: 0.90%\n",
      "Epoch: 1640 | Loss: 0.56153, Accuracy: 0.87% | Test loss: 0.57543, Test acc: 0.90%\n",
      "Epoch: 1650 | Loss: 0.56153, Accuracy: 0.87% | Test loss: 0.57543, Test acc: 0.90%\n",
      "Epoch: 1660 | Loss: 0.56152, Accuracy: 0.87% | Test loss: 0.57543, Test acc: 0.90%\n",
      "Epoch: 1670 | Loss: 0.56152, Accuracy: 0.87% | Test loss: 0.57544, Test acc: 0.90%\n",
      "Epoch: 1680 | Loss: 0.56151, Accuracy: 0.87% | Test loss: 0.57544, Test acc: 0.90%\n",
      "Epoch: 1690 | Loss: 0.56151, Accuracy: 0.87% | Test loss: 0.57545, Test acc: 0.90%\n",
      "Epoch: 1700 | Loss: 0.56150, Accuracy: 0.87% | Test loss: 0.57545, Test acc: 0.90%\n",
      "Epoch: 1710 | Loss: 0.56149, Accuracy: 0.87% | Test loss: 0.57545, Test acc: 0.90%\n",
      "Epoch: 1720 | Loss: 0.56149, Accuracy: 0.87% | Test loss: 0.57546, Test acc: 0.90%\n",
      "Epoch: 1730 | Loss: 0.56148, Accuracy: 0.87% | Test loss: 0.57546, Test acc: 0.90%\n",
      "Epoch: 1740 | Loss: 0.56148, Accuracy: 0.87% | Test loss: 0.57546, Test acc: 0.90%\n",
      "Epoch: 1750 | Loss: 0.56147, Accuracy: 0.87% | Test loss: 0.57547, Test acc: 0.90%\n",
      "Epoch: 1760 | Loss: 0.56147, Accuracy: 0.87% | Test loss: 0.57547, Test acc: 0.90%\n",
      "Epoch: 1770 | Loss: 0.56146, Accuracy: 0.87% | Test loss: 0.57548, Test acc: 0.90%\n",
      "Epoch: 1780 | Loss: 0.56146, Accuracy: 0.87% | Test loss: 0.57548, Test acc: 0.90%\n",
      "Epoch: 1790 | Loss: 0.56145, Accuracy: 0.87% | Test loss: 0.57548, Test acc: 0.90%\n",
      "Epoch: 1800 | Loss: 0.56144, Accuracy: 0.87% | Test loss: 0.57549, Test acc: 0.90%\n",
      "Epoch: 1810 | Loss: 0.56144, Accuracy: 0.87% | Test loss: 0.57549, Test acc: 0.90%\n",
      "Epoch: 1820 | Loss: 0.56143, Accuracy: 0.87% | Test loss: 0.57550, Test acc: 0.90%\n",
      "Epoch: 1830 | Loss: 0.56143, Accuracy: 0.87% | Test loss: 0.57550, Test acc: 0.90%\n",
      "Epoch: 1840 | Loss: 0.56142, Accuracy: 0.87% | Test loss: 0.57550, Test acc: 0.90%\n",
      "Epoch: 1850 | Loss: 0.56142, Accuracy: 0.87% | Test loss: 0.57551, Test acc: 0.90%\n",
      "Epoch: 1860 | Loss: 0.56141, Accuracy: 0.87% | Test loss: 0.57551, Test acc: 0.90%\n",
      "Epoch: 1870 | Loss: 0.56141, Accuracy: 0.87% | Test loss: 0.57551, Test acc: 0.90%\n",
      "Epoch: 1880 | Loss: 0.56140, Accuracy: 0.87% | Test loss: 0.57552, Test acc: 0.90%\n",
      "Epoch: 1890 | Loss: 0.56140, Accuracy: 0.87% | Test loss: 0.57552, Test acc: 0.90%\n",
      "Epoch: 1900 | Loss: 0.56139, Accuracy: 0.87% | Test loss: 0.57553, Test acc: 0.90%\n",
      "Epoch: 1910 | Loss: 0.56139, Accuracy: 0.87% | Test loss: 0.57553, Test acc: 0.90%\n",
      "Epoch: 1920 | Loss: 0.56138, Accuracy: 0.87% | Test loss: 0.57553, Test acc: 0.90%\n",
      "Epoch: 1930 | Loss: 0.56138, Accuracy: 0.87% | Test loss: 0.57554, Test acc: 0.90%\n",
      "Epoch: 1940 | Loss: 0.56137, Accuracy: 0.87% | Test loss: 0.57554, Test acc: 0.90%\n",
      "Epoch: 1950 | Loss: 0.56137, Accuracy: 0.87% | Test loss: 0.57554, Test acc: 0.90%\n",
      "Epoch: 1960 | Loss: 0.56136, Accuracy: 0.87% | Test loss: 0.57555, Test acc: 0.90%\n",
      "Epoch: 1970 | Loss: 0.56136, Accuracy: 0.87% | Test loss: 0.57555, Test acc: 0.90%\n",
      "Epoch: 1980 | Loss: 0.56135, Accuracy: 0.87% | Test loss: 0.57556, Test acc: 0.90%\n",
      "Epoch: 1990 | Loss: 0.56135, Accuracy: 0.87% | Test loss: 0.57556, Test acc: 0.90%\n",
      "Epoch: 2000 | Loss: 0.56135, Accuracy: 0.87% | Test loss: 0.57556, Test acc: 0.90%\n",
      "Epoch: 2010 | Loss: 0.56134, Accuracy: 0.87% | Test loss: 0.57557, Test acc: 0.90%\n",
      "Epoch: 2020 | Loss: 0.56134, Accuracy: 0.87% | Test loss: 0.57557, Test acc: 0.90%\n",
      "Epoch: 2030 | Loss: 0.56133, Accuracy: 0.87% | Test loss: 0.57557, Test acc: 0.90%\n",
      "Epoch: 2040 | Loss: 0.56133, Accuracy: 0.87% | Test loss: 0.57558, Test acc: 0.90%\n",
      "Epoch: 2050 | Loss: 0.56132, Accuracy: 0.87% | Test loss: 0.57558, Test acc: 0.90%\n",
      "Epoch: 2060 | Loss: 0.56132, Accuracy: 0.87% | Test loss: 0.57559, Test acc: 0.90%\n",
      "Epoch: 2070 | Loss: 0.56131, Accuracy: 0.87% | Test loss: 0.57559, Test acc: 0.90%\n",
      "Epoch: 2080 | Loss: 0.56131, Accuracy: 0.87% | Test loss: 0.57559, Test acc: 0.90%\n",
      "Epoch: 2090 | Loss: 0.56131, Accuracy: 0.87% | Test loss: 0.57560, Test acc: 0.90%\n",
      "Epoch: 2100 | Loss: 0.56130, Accuracy: 0.87% | Test loss: 0.57560, Test acc: 0.90%\n",
      "Epoch: 2110 | Loss: 0.56130, Accuracy: 0.87% | Test loss: 0.57560, Test acc: 0.90%\n",
      "Epoch: 2120 | Loss: 0.56129, Accuracy: 0.87% | Test loss: 0.57561, Test acc: 0.90%\n",
      "Epoch: 2130 | Loss: 0.56129, Accuracy: 0.87% | Test loss: 0.57561, Test acc: 0.90%\n",
      "Epoch: 2140 | Loss: 0.56128, Accuracy: 0.87% | Test loss: 0.57561, Test acc: 0.90%\n",
      "Epoch: 2150 | Loss: 0.56128, Accuracy: 0.87% | Test loss: 0.57562, Test acc: 0.90%\n",
      "Epoch: 2160 | Loss: 0.56128, Accuracy: 0.87% | Test loss: 0.57562, Test acc: 0.90%\n",
      "Epoch: 2170 | Loss: 0.56127, Accuracy: 0.87% | Test loss: 0.57563, Test acc: 0.90%\n",
      "Epoch: 2180 | Loss: 0.56127, Accuracy: 0.87% | Test loss: 0.57563, Test acc: 0.90%\n",
      "Epoch: 2190 | Loss: 0.56126, Accuracy: 0.87% | Test loss: 0.57563, Test acc: 0.90%\n",
      "Epoch: 2200 | Loss: 0.56126, Accuracy: 0.87% | Test loss: 0.57564, Test acc: 0.90%\n",
      "Epoch: 2210 | Loss: 0.56125, Accuracy: 0.87% | Test loss: 0.57564, Test acc: 0.90%\n",
      "Epoch: 2220 | Loss: 0.56125, Accuracy: 0.87% | Test loss: 0.57564, Test acc: 0.90%\n",
      "Epoch: 2230 | Loss: 0.56125, Accuracy: 0.87% | Test loss: 0.57565, Test acc: 0.90%\n",
      "Epoch: 2240 | Loss: 0.56124, Accuracy: 0.87% | Test loss: 0.57565, Test acc: 0.90%\n",
      "Epoch: 2250 | Loss: 0.56124, Accuracy: 0.87% | Test loss: 0.57565, Test acc: 0.90%\n",
      "Epoch: 2260 | Loss: 0.56123, Accuracy: 0.87% | Test loss: 0.57566, Test acc: 0.90%\n",
      "Epoch: 2270 | Loss: 0.56123, Accuracy: 0.87% | Test loss: 0.57566, Test acc: 0.90%\n",
      "Epoch: 2280 | Loss: 0.56123, Accuracy: 0.87% | Test loss: 0.57566, Test acc: 0.90%\n",
      "Epoch: 2290 | Loss: 0.56122, Accuracy: 0.87% | Test loss: 0.57567, Test acc: 0.90%\n",
      "Epoch: 2300 | Loss: 0.56122, Accuracy: 0.87% | Test loss: 0.57567, Test acc: 0.90%\n",
      "Epoch: 2310 | Loss: 0.56121, Accuracy: 0.87% | Test loss: 0.57567, Test acc: 0.90%\n",
      "Epoch: 2320 | Loss: 0.56121, Accuracy: 0.87% | Test loss: 0.57568, Test acc: 0.90%\n",
      "Epoch: 2330 | Loss: 0.56121, Accuracy: 0.87% | Test loss: 0.57568, Test acc: 0.90%\n",
      "Epoch: 2340 | Loss: 0.56120, Accuracy: 0.87% | Test loss: 0.57569, Test acc: 0.90%\n",
      "Epoch: 2350 | Loss: 0.56120, Accuracy: 0.87% | Test loss: 0.57569, Test acc: 0.90%\n",
      "Epoch: 2360 | Loss: 0.56120, Accuracy: 0.87% | Test loss: 0.57569, Test acc: 0.90%\n",
      "Epoch: 2370 | Loss: 0.56119, Accuracy: 0.87% | Test loss: 0.57570, Test acc: 0.90%\n",
      "Epoch: 2380 | Loss: 0.56119, Accuracy: 0.87% | Test loss: 0.57570, Test acc: 0.90%\n",
      "Epoch: 2390 | Loss: 0.56118, Accuracy: 0.87% | Test loss: 0.57570, Test acc: 0.90%\n",
      "Epoch: 2400 | Loss: 0.56118, Accuracy: 0.87% | Test loss: 0.57571, Test acc: 0.90%\n",
      "Epoch: 2410 | Loss: 0.56118, Accuracy: 0.87% | Test loss: 0.57571, Test acc: 0.90%\n",
      "Epoch: 2420 | Loss: 0.56117, Accuracy: 0.87% | Test loss: 0.57571, Test acc: 0.90%\n",
      "Epoch: 2430 | Loss: 0.56117, Accuracy: 0.87% | Test loss: 0.57572, Test acc: 0.90%\n",
      "Epoch: 2440 | Loss: 0.56117, Accuracy: 0.87% | Test loss: 0.57572, Test acc: 0.90%\n",
      "Epoch: 2450 | Loss: 0.56116, Accuracy: 0.87% | Test loss: 0.57572, Test acc: 0.90%\n",
      "Epoch: 2460 | Loss: 0.56116, Accuracy: 0.87% | Test loss: 0.57573, Test acc: 0.90%\n",
      "Epoch: 2470 | Loss: 0.56115, Accuracy: 0.87% | Test loss: 0.57573, Test acc: 0.90%\n",
      "Epoch: 2480 | Loss: 0.56115, Accuracy: 0.87% | Test loss: 0.57573, Test acc: 0.90%\n",
      "Epoch: 2490 | Loss: 0.56115, Accuracy: 0.87% | Test loss: 0.57574, Test acc: 0.90%\n",
      "Epoch: 2500 | Loss: 0.56114, Accuracy: 0.87% | Test loss: 0.57574, Test acc: 0.90%\n",
      "Epoch: 2510 | Loss: 0.56114, Accuracy: 0.87% | Test loss: 0.57574, Test acc: 0.90%\n",
      "Epoch: 2520 | Loss: 0.56114, Accuracy: 0.87% | Test loss: 0.57575, Test acc: 0.90%\n",
      "Epoch: 2530 | Loss: 0.56113, Accuracy: 0.87% | Test loss: 0.57575, Test acc: 0.90%\n",
      "Epoch: 2540 | Loss: 0.56113, Accuracy: 0.87% | Test loss: 0.57575, Test acc: 0.90%\n",
      "Epoch: 2550 | Loss: 0.56113, Accuracy: 0.87% | Test loss: 0.57576, Test acc: 0.90%\n",
      "Epoch: 2560 | Loss: 0.56112, Accuracy: 0.87% | Test loss: 0.57576, Test acc: 0.90%\n",
      "Epoch: 2570 | Loss: 0.56112, Accuracy: 0.87% | Test loss: 0.57576, Test acc: 0.90%\n",
      "Epoch: 2580 | Loss: 0.56111, Accuracy: 0.87% | Test loss: 0.57577, Test acc: 0.90%\n",
      "Epoch: 2590 | Loss: 0.56111, Accuracy: 0.87% | Test loss: 0.57577, Test acc: 0.90%\n",
      "Epoch: 2600 | Loss: 0.56111, Accuracy: 0.87% | Test loss: 0.57577, Test acc: 0.90%\n",
      "Epoch: 2610 | Loss: 0.56110, Accuracy: 0.87% | Test loss: 0.57578, Test acc: 0.90%\n",
      "Epoch: 2620 | Loss: 0.56110, Accuracy: 0.87% | Test loss: 0.57578, Test acc: 0.90%\n",
      "Epoch: 2630 | Loss: 0.56110, Accuracy: 0.87% | Test loss: 0.57578, Test acc: 0.90%\n",
      "Epoch: 2640 | Loss: 0.56109, Accuracy: 0.87% | Test loss: 0.57579, Test acc: 0.90%\n",
      "Epoch: 2650 | Loss: 0.56109, Accuracy: 0.87% | Test loss: 0.57579, Test acc: 0.90%\n",
      "Epoch: 2660 | Loss: 0.56109, Accuracy: 0.87% | Test loss: 0.57579, Test acc: 0.90%\n",
      "Epoch: 2670 | Loss: 0.56108, Accuracy: 0.87% | Test loss: 0.57580, Test acc: 0.90%\n",
      "Epoch: 2680 | Loss: 0.56108, Accuracy: 0.87% | Test loss: 0.57580, Test acc: 0.90%\n",
      "Epoch: 2690 | Loss: 0.56108, Accuracy: 0.87% | Test loss: 0.57580, Test acc: 0.90%\n",
      "Epoch: 2700 | Loss: 0.56107, Accuracy: 0.87% | Test loss: 0.57581, Test acc: 0.90%\n",
      "Epoch: 2710 | Loss: 0.56107, Accuracy: 0.87% | Test loss: 0.57581, Test acc: 0.90%\n",
      "Epoch: 2720 | Loss: 0.56107, Accuracy: 0.87% | Test loss: 0.57581, Test acc: 0.90%\n",
      "Epoch: 2730 | Loss: 0.56106, Accuracy: 0.87% | Test loss: 0.57582, Test acc: 0.90%\n",
      "Epoch: 2740 | Loss: 0.56106, Accuracy: 0.87% | Test loss: 0.57582, Test acc: 0.90%\n",
      "Epoch: 2750 | Loss: 0.56106, Accuracy: 0.87% | Test loss: 0.57582, Test acc: 0.90%\n",
      "Epoch: 2760 | Loss: 0.56105, Accuracy: 0.87% | Test loss: 0.57583, Test acc: 0.90%\n",
      "Epoch: 2770 | Loss: 0.56105, Accuracy: 0.87% | Test loss: 0.57583, Test acc: 0.90%\n",
      "Epoch: 2780 | Loss: 0.56105, Accuracy: 0.87% | Test loss: 0.57583, Test acc: 0.90%\n",
      "Epoch: 2790 | Loss: 0.56104, Accuracy: 0.87% | Test loss: 0.57584, Test acc: 0.90%\n",
      "Epoch: 2800 | Loss: 0.56104, Accuracy: 0.87% | Test loss: 0.57584, Test acc: 0.90%\n",
      "Epoch: 2810 | Loss: 0.56104, Accuracy: 0.87% | Test loss: 0.57584, Test acc: 0.90%\n",
      "Epoch: 2820 | Loss: 0.56103, Accuracy: 0.87% | Test loss: 0.57585, Test acc: 0.90%\n",
      "Epoch: 2830 | Loss: 0.56103, Accuracy: 0.87% | Test loss: 0.57585, Test acc: 0.90%\n",
      "Epoch: 2840 | Loss: 0.56103, Accuracy: 0.87% | Test loss: 0.57585, Test acc: 0.90%\n",
      "Epoch: 2850 | Loss: 0.56102, Accuracy: 0.87% | Test loss: 0.57586, Test acc: 0.90%\n",
      "Epoch: 2860 | Loss: 0.56102, Accuracy: 0.87% | Test loss: 0.57586, Test acc: 0.90%\n",
      "Epoch: 2870 | Loss: 0.56102, Accuracy: 0.87% | Test loss: 0.57586, Test acc: 0.90%\n",
      "Epoch: 2880 | Loss: 0.56101, Accuracy: 0.87% | Test loss: 0.57587, Test acc: 0.90%\n",
      "Epoch: 2890 | Loss: 0.56101, Accuracy: 0.87% | Test loss: 0.57587, Test acc: 0.90%\n",
      "Epoch: 2900 | Loss: 0.56101, Accuracy: 0.87% | Test loss: 0.57587, Test acc: 0.90%\n",
      "Epoch: 2910 | Loss: 0.56100, Accuracy: 0.87% | Test loss: 0.57588, Test acc: 0.90%\n",
      "Epoch: 2920 | Loss: 0.56100, Accuracy: 0.87% | Test loss: 0.57588, Test acc: 0.90%\n",
      "Epoch: 2930 | Loss: 0.56100, Accuracy: 0.87% | Test loss: 0.57588, Test acc: 0.90%\n",
      "Epoch: 2940 | Loss: 0.56100, Accuracy: 0.87% | Test loss: 0.57588, Test acc: 0.90%\n",
      "Epoch: 2950 | Loss: 0.56099, Accuracy: 0.87% | Test loss: 0.57589, Test acc: 0.90%\n",
      "Epoch: 2960 | Loss: 0.56099, Accuracy: 0.87% | Test loss: 0.57589, Test acc: 0.90%\n",
      "Epoch: 2970 | Loss: 0.56099, Accuracy: 0.87% | Test loss: 0.57589, Test acc: 0.90%\n",
      "Epoch: 2980 | Loss: 0.56098, Accuracy: 0.87% | Test loss: 0.57590, Test acc: 0.90%\n",
      "Epoch: 2990 | Loss: 0.56098, Accuracy: 0.87% | Test loss: 0.57590, Test acc: 0.90%\n",
      "Epoch: 3000 | Loss: 0.56098, Accuracy: 0.87% | Test loss: 0.57590, Test acc: 0.90%\n",
      "Epoch: 3010 | Loss: 0.56097, Accuracy: 0.87% | Test loss: 0.57591, Test acc: 0.90%\n",
      "Epoch: 3020 | Loss: 0.56097, Accuracy: 0.87% | Test loss: 0.57591, Test acc: 0.90%\n",
      "Epoch: 3030 | Loss: 0.56097, Accuracy: 0.87% | Test loss: 0.57591, Test acc: 0.90%\n",
      "Epoch: 3040 | Loss: 0.56096, Accuracy: 0.87% | Test loss: 0.57592, Test acc: 0.90%\n",
      "Epoch: 3050 | Loss: 0.56096, Accuracy: 0.87% | Test loss: 0.57592, Test acc: 0.90%\n",
      "Epoch: 3060 | Loss: 0.56096, Accuracy: 0.87% | Test loss: 0.57592, Test acc: 0.90%\n",
      "Epoch: 3070 | Loss: 0.56095, Accuracy: 0.87% | Test loss: 0.57593, Test acc: 0.90%\n",
      "Epoch: 3080 | Loss: 0.56095, Accuracy: 0.87% | Test loss: 0.57593, Test acc: 0.90%\n",
      "Epoch: 3090 | Loss: 0.56095, Accuracy: 0.87% | Test loss: 0.57593, Test acc: 0.90%\n",
      "Epoch: 3100 | Loss: 0.56095, Accuracy: 0.87% | Test loss: 0.57594, Test acc: 0.90%\n",
      "Epoch: 3110 | Loss: 0.56094, Accuracy: 0.87% | Test loss: 0.57594, Test acc: 0.90%\n",
      "Epoch: 3120 | Loss: 0.56094, Accuracy: 0.87% | Test loss: 0.57594, Test acc: 0.90%\n",
      "Epoch: 3130 | Loss: 0.56094, Accuracy: 0.87% | Test loss: 0.57595, Test acc: 0.90%\n",
      "Epoch: 3140 | Loss: 0.56093, Accuracy: 0.87% | Test loss: 0.57595, Test acc: 0.90%\n",
      "Epoch: 3150 | Loss: 0.56093, Accuracy: 0.87% | Test loss: 0.57595, Test acc: 0.90%\n",
      "Epoch: 3160 | Loss: 0.56093, Accuracy: 0.87% | Test loss: 0.57596, Test acc: 0.90%\n",
      "Epoch: 3170 | Loss: 0.56092, Accuracy: 0.87% | Test loss: 0.57596, Test acc: 0.90%\n",
      "Epoch: 3180 | Loss: 0.56092, Accuracy: 0.87% | Test loss: 0.57596, Test acc: 0.90%\n",
      "Epoch: 3190 | Loss: 0.56092, Accuracy: 0.87% | Test loss: 0.57597, Test acc: 0.90%\n",
      "Epoch: 3200 | Loss: 0.56091, Accuracy: 0.87% | Test loss: 0.57597, Test acc: 0.90%\n",
      "Epoch: 3210 | Loss: 0.56091, Accuracy: 0.87% | Test loss: 0.57597, Test acc: 0.90%\n",
      "Epoch: 3220 | Loss: 0.56091, Accuracy: 0.87% | Test loss: 0.57598, Test acc: 0.90%\n",
      "Epoch: 3230 | Loss: 0.56091, Accuracy: 0.87% | Test loss: 0.57598, Test acc: 0.90%\n",
      "Epoch: 3240 | Loss: 0.56090, Accuracy: 0.87% | Test loss: 0.57598, Test acc: 0.90%\n",
      "Epoch: 3250 | Loss: 0.56090, Accuracy: 0.87% | Test loss: 0.57598, Test acc: 0.90%\n",
      "Epoch: 3260 | Loss: 0.56090, Accuracy: 0.87% | Test loss: 0.57599, Test acc: 0.90%\n",
      "Epoch: 3270 | Loss: 0.56089, Accuracy: 0.87% | Test loss: 0.57599, Test acc: 0.90%\n",
      "Epoch: 3280 | Loss: 0.56089, Accuracy: 0.87% | Test loss: 0.57599, Test acc: 0.90%\n",
      "Epoch: 3290 | Loss: 0.56089, Accuracy: 0.87% | Test loss: 0.57600, Test acc: 0.90%\n",
      "Epoch: 3300 | Loss: 0.56088, Accuracy: 0.87% | Test loss: 0.57600, Test acc: 0.90%\n",
      "Epoch: 3310 | Loss: 0.56088, Accuracy: 0.87% | Test loss: 0.57600, Test acc: 0.90%\n",
      "Epoch: 3320 | Loss: 0.56088, Accuracy: 0.87% | Test loss: 0.57601, Test acc: 0.90%\n",
      "Epoch: 3330 | Loss: 0.56088, Accuracy: 0.87% | Test loss: 0.57601, Test acc: 0.90%\n",
      "Epoch: 3340 | Loss: 0.56087, Accuracy: 0.87% | Test loss: 0.57601, Test acc: 0.90%\n",
      "Epoch: 3350 | Loss: 0.56087, Accuracy: 0.87% | Test loss: 0.57602, Test acc: 0.90%\n",
      "Epoch: 3360 | Loss: 0.56087, Accuracy: 0.87% | Test loss: 0.57602, Test acc: 0.90%\n",
      "Epoch: 3370 | Loss: 0.56086, Accuracy: 0.87% | Test loss: 0.57602, Test acc: 0.90%\n",
      "Epoch: 3380 | Loss: 0.56086, Accuracy: 0.87% | Test loss: 0.57603, Test acc: 0.90%\n",
      "Epoch: 3390 | Loss: 0.56086, Accuracy: 0.87% | Test loss: 0.57603, Test acc: 0.90%\n",
      "Epoch: 3400 | Loss: 0.56085, Accuracy: 0.87% | Test loss: 0.57603, Test acc: 0.90%\n",
      "Epoch: 3410 | Loss: 0.56085, Accuracy: 0.87% | Test loss: 0.57604, Test acc: 0.90%\n",
      "Epoch: 3420 | Loss: 0.56085, Accuracy: 0.87% | Test loss: 0.57604, Test acc: 0.90%\n",
      "Epoch: 3430 | Loss: 0.56085, Accuracy: 0.87% | Test loss: 0.57604, Test acc: 0.90%\n",
      "Epoch: 3440 | Loss: 0.56084, Accuracy: 0.87% | Test loss: 0.57605, Test acc: 0.90%\n",
      "Epoch: 3450 | Loss: 0.56084, Accuracy: 0.87% | Test loss: 0.57605, Test acc: 0.90%\n",
      "Epoch: 3460 | Loss: 0.56084, Accuracy: 0.87% | Test loss: 0.57605, Test acc: 0.90%\n",
      "Epoch: 3470 | Loss: 0.56083, Accuracy: 0.87% | Test loss: 0.57606, Test acc: 0.90%\n",
      "Epoch: 3480 | Loss: 0.56083, Accuracy: 0.87% | Test loss: 0.57606, Test acc: 0.90%\n",
      "Epoch: 3490 | Loss: 0.56083, Accuracy: 0.87% | Test loss: 0.57606, Test acc: 0.90%\n",
      "Epoch: 3500 | Loss: 0.56083, Accuracy: 0.87% | Test loss: 0.57607, Test acc: 0.90%\n",
      "Epoch: 3510 | Loss: 0.56082, Accuracy: 0.87% | Test loss: 0.57607, Test acc: 0.90%\n",
      "Epoch: 3520 | Loss: 0.56082, Accuracy: 0.87% | Test loss: 0.57607, Test acc: 0.90%\n",
      "Epoch: 3530 | Loss: 0.56082, Accuracy: 0.87% | Test loss: 0.57608, Test acc: 0.90%\n",
      "Epoch: 3540 | Loss: 0.56081, Accuracy: 0.87% | Test loss: 0.57608, Test acc: 0.90%\n",
      "Epoch: 3550 | Loss: 0.56081, Accuracy: 0.87% | Test loss: 0.57608, Test acc: 0.90%\n",
      "Epoch: 3560 | Loss: 0.56081, Accuracy: 0.87% | Test loss: 0.57609, Test acc: 0.90%\n",
      "Epoch: 3570 | Loss: 0.56080, Accuracy: 0.87% | Test loss: 0.57609, Test acc: 0.90%\n",
      "Epoch: 3580 | Loss: 0.56080, Accuracy: 0.87% | Test loss: 0.57609, Test acc: 0.90%\n",
      "Epoch: 3590 | Loss: 0.56080, Accuracy: 0.87% | Test loss: 0.57610, Test acc: 0.90%\n",
      "Epoch: 3600 | Loss: 0.56080, Accuracy: 0.87% | Test loss: 0.57610, Test acc: 0.90%\n",
      "Epoch: 3610 | Loss: 0.56079, Accuracy: 0.87% | Test loss: 0.57610, Test acc: 0.90%\n",
      "Epoch: 3620 | Loss: 0.56079, Accuracy: 0.87% | Test loss: 0.57611, Test acc: 0.90%\n",
      "Epoch: 3630 | Loss: 0.56079, Accuracy: 0.87% | Test loss: 0.57611, Test acc: 0.90%\n",
      "Epoch: 3640 | Loss: 0.56078, Accuracy: 0.87% | Test loss: 0.57611, Test acc: 0.90%\n",
      "Epoch: 3650 | Loss: 0.56078, Accuracy: 0.87% | Test loss: 0.57612, Test acc: 0.90%\n",
      "Epoch: 3660 | Loss: 0.56078, Accuracy: 0.87% | Test loss: 0.57612, Test acc: 0.90%\n",
      "Epoch: 3670 | Loss: 0.56078, Accuracy: 0.87% | Test loss: 0.57612, Test acc: 0.90%\n",
      "Epoch: 3680 | Loss: 0.56077, Accuracy: 0.87% | Test loss: 0.57613, Test acc: 0.90%\n",
      "Epoch: 3690 | Loss: 0.56077, Accuracy: 0.87% | Test loss: 0.57613, Test acc: 0.90%\n",
      "Epoch: 3700 | Loss: 0.56077, Accuracy: 0.87% | Test loss: 0.57613, Test acc: 0.90%\n",
      "Epoch: 3710 | Loss: 0.56076, Accuracy: 0.87% | Test loss: 0.57614, Test acc: 0.90%\n",
      "Epoch: 3720 | Loss: 0.56076, Accuracy: 0.87% | Test loss: 0.57614, Test acc: 0.90%\n",
      "Epoch: 3730 | Loss: 0.56076, Accuracy: 0.87% | Test loss: 0.57614, Test acc: 0.90%\n",
      "Epoch: 3740 | Loss: 0.56075, Accuracy: 0.87% | Test loss: 0.57615, Test acc: 0.90%\n",
      "Epoch: 3750 | Loss: 0.56075, Accuracy: 0.87% | Test loss: 0.57615, Test acc: 0.90%\n",
      "Epoch: 3760 | Loss: 0.56075, Accuracy: 0.87% | Test loss: 0.57615, Test acc: 0.90%\n",
      "Epoch: 3770 | Loss: 0.56075, Accuracy: 0.87% | Test loss: 0.57616, Test acc: 0.90%\n",
      "Epoch: 3780 | Loss: 0.56074, Accuracy: 0.87% | Test loss: 0.57616, Test acc: 0.90%\n",
      "Epoch: 3790 | Loss: 0.56074, Accuracy: 0.87% | Test loss: 0.57616, Test acc: 0.90%\n",
      "Epoch: 3800 | Loss: 0.56074, Accuracy: 0.87% | Test loss: 0.57617, Test acc: 0.90%\n",
      "Epoch: 3810 | Loss: 0.56073, Accuracy: 0.87% | Test loss: 0.57617, Test acc: 0.90%\n",
      "Epoch: 3820 | Loss: 0.56073, Accuracy: 0.87% | Test loss: 0.57617, Test acc: 0.90%\n",
      "Epoch: 3830 | Loss: 0.56073, Accuracy: 0.87% | Test loss: 0.57618, Test acc: 0.90%\n",
      "Epoch: 3840 | Loss: 0.56073, Accuracy: 0.87% | Test loss: 0.57618, Test acc: 0.90%\n",
      "Epoch: 3850 | Loss: 0.56072, Accuracy: 0.87% | Test loss: 0.57618, Test acc: 0.90%\n",
      "Epoch: 3860 | Loss: 0.56072, Accuracy: 0.87% | Test loss: 0.57619, Test acc: 0.90%\n",
      "Epoch: 3870 | Loss: 0.56072, Accuracy: 0.87% | Test loss: 0.57619, Test acc: 0.90%\n",
      "Epoch: 3880 | Loss: 0.56071, Accuracy: 0.87% | Test loss: 0.57619, Test acc: 0.90%\n",
      "Epoch: 3890 | Loss: 0.56071, Accuracy: 0.87% | Test loss: 0.57620, Test acc: 0.90%\n",
      "Epoch: 3900 | Loss: 0.56071, Accuracy: 0.87% | Test loss: 0.57620, Test acc: 0.90%\n",
      "Epoch: 3910 | Loss: 0.56071, Accuracy: 0.87% | Test loss: 0.57620, Test acc: 0.90%\n",
      "Epoch: 3920 | Loss: 0.56070, Accuracy: 0.87% | Test loss: 0.57621, Test acc: 0.90%\n",
      "Epoch: 3930 | Loss: 0.56070, Accuracy: 0.87% | Test loss: 0.57621, Test acc: 0.90%\n",
      "Epoch: 3940 | Loss: 0.56070, Accuracy: 0.87% | Test loss: 0.57621, Test acc: 0.90%\n",
      "Epoch: 3950 | Loss: 0.56069, Accuracy: 0.87% | Test loss: 0.57622, Test acc: 0.90%\n",
      "Epoch: 3960 | Loss: 0.56069, Accuracy: 0.87% | Test loss: 0.57622, Test acc: 0.90%\n",
      "Epoch: 3970 | Loss: 0.56069, Accuracy: 0.87% | Test loss: 0.57622, Test acc: 0.90%\n",
      "Epoch: 3980 | Loss: 0.56068, Accuracy: 0.87% | Test loss: 0.57623, Test acc: 0.90%\n",
      "Epoch: 3990 | Loss: 0.56068, Accuracy: 0.87% | Test loss: 0.57623, Test acc: 0.90%\n",
      "Epoch: 4000 | Loss: 0.56068, Accuracy: 0.87% | Test loss: 0.57623, Test acc: 0.90%\n",
      "Epoch: 4010 | Loss: 0.56068, Accuracy: 0.87% | Test loss: 0.57624, Test acc: 0.90%\n",
      "Epoch: 4020 | Loss: 0.56067, Accuracy: 0.87% | Test loss: 0.57624, Test acc: 0.90%\n",
      "Epoch: 4030 | Loss: 0.56067, Accuracy: 0.87% | Test loss: 0.57625, Test acc: 0.90%\n",
      "Epoch: 4040 | Loss: 0.56067, Accuracy: 0.87% | Test loss: 0.57625, Test acc: 0.90%\n",
      "Epoch: 4050 | Loss: 0.56066, Accuracy: 0.87% | Test loss: 0.57625, Test acc: 0.90%\n",
      "Epoch: 4060 | Loss: 0.56066, Accuracy: 0.87% | Test loss: 0.57626, Test acc: 0.90%\n",
      "Epoch: 4070 | Loss: 0.56066, Accuracy: 0.87% | Test loss: 0.57626, Test acc: 0.90%\n",
      "Epoch: 4080 | Loss: 0.56066, Accuracy: 0.87% | Test loss: 0.57626, Test acc: 0.90%\n",
      "Epoch: 4090 | Loss: 0.56065, Accuracy: 0.87% | Test loss: 0.57627, Test acc: 0.90%\n",
      "Epoch: 4100 | Loss: 0.56065, Accuracy: 0.87% | Test loss: 0.57627, Test acc: 0.90%\n",
      "Epoch: 4110 | Loss: 0.56065, Accuracy: 0.87% | Test loss: 0.57627, Test acc: 0.90%\n",
      "Epoch: 4120 | Loss: 0.56064, Accuracy: 0.87% | Test loss: 0.57628, Test acc: 0.90%\n",
      "Epoch: 4130 | Loss: 0.56064, Accuracy: 0.87% | Test loss: 0.57628, Test acc: 0.90%\n",
      "Epoch: 4140 | Loss: 0.56064, Accuracy: 0.87% | Test loss: 0.57628, Test acc: 0.90%\n",
      "Epoch: 4150 | Loss: 0.56064, Accuracy: 0.87% | Test loss: 0.57629, Test acc: 0.90%\n",
      "Epoch: 4160 | Loss: 0.56063, Accuracy: 0.87% | Test loss: 0.57629, Test acc: 0.90%\n",
      "Epoch: 4170 | Loss: 0.56063, Accuracy: 0.87% | Test loss: 0.57629, Test acc: 0.90%\n",
      "Epoch: 4180 | Loss: 0.56063, Accuracy: 0.87% | Test loss: 0.57630, Test acc: 0.90%\n",
      "Epoch: 4190 | Loss: 0.56062, Accuracy: 0.87% | Test loss: 0.57630, Test acc: 0.90%\n",
      "Epoch: 4200 | Loss: 0.56062, Accuracy: 0.87% | Test loss: 0.57631, Test acc: 0.90%\n",
      "Epoch: 4210 | Loss: 0.56062, Accuracy: 0.87% | Test loss: 0.57631, Test acc: 0.90%\n",
      "Epoch: 4220 | Loss: 0.56061, Accuracy: 0.87% | Test loss: 0.57631, Test acc: 0.90%\n",
      "Epoch: 4230 | Loss: 0.56061, Accuracy: 0.87% | Test loss: 0.57632, Test acc: 0.90%\n",
      "Epoch: 4240 | Loss: 0.56061, Accuracy: 0.87% | Test loss: 0.57632, Test acc: 0.90%\n",
      "Epoch: 4250 | Loss: 0.56061, Accuracy: 0.87% | Test loss: 0.57632, Test acc: 0.90%\n",
      "Epoch: 4260 | Loss: 0.56060, Accuracy: 0.87% | Test loss: 0.57633, Test acc: 0.90%\n",
      "Epoch: 4270 | Loss: 0.56060, Accuracy: 0.87% | Test loss: 0.57633, Test acc: 0.90%\n",
      "Epoch: 4280 | Loss: 0.56060, Accuracy: 0.87% | Test loss: 0.57633, Test acc: 0.90%\n",
      "Epoch: 4290 | Loss: 0.56059, Accuracy: 0.87% | Test loss: 0.57634, Test acc: 0.90%\n",
      "Epoch: 4300 | Loss: 0.56059, Accuracy: 0.87% | Test loss: 0.57634, Test acc: 0.90%\n",
      "Epoch: 4310 | Loss: 0.56059, Accuracy: 0.87% | Test loss: 0.57635, Test acc: 0.90%\n",
      "Epoch: 4320 | Loss: 0.56059, Accuracy: 0.87% | Test loss: 0.57635, Test acc: 0.90%\n",
      "Epoch: 4330 | Loss: 0.56058, Accuracy: 0.87% | Test loss: 0.57635, Test acc: 0.90%\n",
      "Epoch: 4340 | Loss: 0.56058, Accuracy: 0.87% | Test loss: 0.57636, Test acc: 0.90%\n",
      "Epoch: 4350 | Loss: 0.56058, Accuracy: 0.87% | Test loss: 0.57636, Test acc: 0.90%\n",
      "Epoch: 4360 | Loss: 0.56057, Accuracy: 0.87% | Test loss: 0.57636, Test acc: 0.90%\n",
      "Epoch: 4370 | Loss: 0.56057, Accuracy: 0.87% | Test loss: 0.57637, Test acc: 0.90%\n",
      "Epoch: 4380 | Loss: 0.56057, Accuracy: 0.87% | Test loss: 0.57637, Test acc: 0.90%\n",
      "Epoch: 4390 | Loss: 0.56056, Accuracy: 0.87% | Test loss: 0.57638, Test acc: 0.90%\n",
      "Epoch: 4400 | Loss: 0.56056, Accuracy: 0.87% | Test loss: 0.57638, Test acc: 0.90%\n",
      "Epoch: 4410 | Loss: 0.56056, Accuracy: 0.87% | Test loss: 0.57638, Test acc: 0.90%\n",
      "Epoch: 4420 | Loss: 0.56056, Accuracy: 0.87% | Test loss: 0.57639, Test acc: 0.90%\n",
      "Epoch: 4430 | Loss: 0.56055, Accuracy: 0.87% | Test loss: 0.57639, Test acc: 0.90%\n",
      "Epoch: 4440 | Loss: 0.56055, Accuracy: 0.87% | Test loss: 0.57639, Test acc: 0.90%\n",
      "Epoch: 4450 | Loss: 0.56055, Accuracy: 0.87% | Test loss: 0.57640, Test acc: 0.90%\n",
      "Epoch: 4460 | Loss: 0.56054, Accuracy: 0.87% | Test loss: 0.57640, Test acc: 0.90%\n",
      "Epoch: 4470 | Loss: 0.56054, Accuracy: 0.87% | Test loss: 0.57640, Test acc: 0.90%\n",
      "Epoch: 4480 | Loss: 0.56054, Accuracy: 0.87% | Test loss: 0.57641, Test acc: 0.90%\n",
      "Epoch: 4490 | Loss: 0.56054, Accuracy: 0.87% | Test loss: 0.57641, Test acc: 0.90%\n",
      "Epoch: 4500 | Loss: 0.56053, Accuracy: 0.87% | Test loss: 0.57642, Test acc: 0.90%\n",
      "Epoch: 4510 | Loss: 0.56053, Accuracy: 0.87% | Test loss: 0.57642, Test acc: 0.90%\n",
      "Epoch: 4520 | Loss: 0.56053, Accuracy: 0.87% | Test loss: 0.57642, Test acc: 0.90%\n",
      "Epoch: 4530 | Loss: 0.56052, Accuracy: 0.87% | Test loss: 0.57643, Test acc: 0.90%\n",
      "Epoch: 4540 | Loss: 0.56052, Accuracy: 0.87% | Test loss: 0.57643, Test acc: 0.90%\n",
      "Epoch: 4550 | Loss: 0.56052, Accuracy: 0.87% | Test loss: 0.57644, Test acc: 0.90%\n",
      "Epoch: 4560 | Loss: 0.56051, Accuracy: 0.87% | Test loss: 0.57644, Test acc: 0.90%\n",
      "Epoch: 4570 | Loss: 0.56051, Accuracy: 0.87% | Test loss: 0.57644, Test acc: 0.90%\n",
      "Epoch: 4580 | Loss: 0.56051, Accuracy: 0.87% | Test loss: 0.57645, Test acc: 0.90%\n",
      "Epoch: 4590 | Loss: 0.56051, Accuracy: 0.87% | Test loss: 0.57645, Test acc: 0.90%\n",
      "Epoch: 4600 | Loss: 0.56050, Accuracy: 0.87% | Test loss: 0.57645, Test acc: 0.90%\n",
      "Epoch: 4610 | Loss: 0.56050, Accuracy: 0.87% | Test loss: 0.57646, Test acc: 0.90%\n",
      "Epoch: 4620 | Loss: 0.56050, Accuracy: 0.87% | Test loss: 0.57646, Test acc: 0.90%\n",
      "Epoch: 4630 | Loss: 0.56049, Accuracy: 0.87% | Test loss: 0.57647, Test acc: 0.90%\n",
      "Epoch: 4640 | Loss: 0.56049, Accuracy: 0.87% | Test loss: 0.57647, Test acc: 0.90%\n",
      "Epoch: 4650 | Loss: 0.56049, Accuracy: 0.87% | Test loss: 0.57647, Test acc: 0.90%\n",
      "Epoch: 4660 | Loss: 0.56048, Accuracy: 0.87% | Test loss: 0.57648, Test acc: 0.90%\n",
      "Epoch: 4670 | Loss: 0.56048, Accuracy: 0.87% | Test loss: 0.57648, Test acc: 0.90%\n",
      "Epoch: 4680 | Loss: 0.56048, Accuracy: 0.87% | Test loss: 0.57649, Test acc: 0.90%\n",
      "Epoch: 4690 | Loss: 0.56048, Accuracy: 0.87% | Test loss: 0.57649, Test acc: 0.90%\n",
      "Epoch: 4700 | Loss: 0.56047, Accuracy: 0.87% | Test loss: 0.57649, Test acc: 0.90%\n",
      "Epoch: 4710 | Loss: 0.56047, Accuracy: 0.87% | Test loss: 0.57650, Test acc: 0.90%\n",
      "Epoch: 4720 | Loss: 0.56047, Accuracy: 0.87% | Test loss: 0.57650, Test acc: 0.90%\n",
      "Epoch: 4730 | Loss: 0.56046, Accuracy: 0.87% | Test loss: 0.57650, Test acc: 0.90%\n",
      "Epoch: 4740 | Loss: 0.56046, Accuracy: 0.87% | Test loss: 0.57651, Test acc: 0.90%\n",
      "Epoch: 4750 | Loss: 0.56046, Accuracy: 0.87% | Test loss: 0.57651, Test acc: 0.90%\n",
      "Epoch: 4760 | Loss: 0.56045, Accuracy: 0.87% | Test loss: 0.57652, Test acc: 0.90%\n",
      "Epoch: 4770 | Loss: 0.56045, Accuracy: 0.87% | Test loss: 0.57652, Test acc: 0.90%\n",
      "Epoch: 4780 | Loss: 0.56045, Accuracy: 0.87% | Test loss: 0.57652, Test acc: 0.90%\n",
      "Epoch: 4790 | Loss: 0.56045, Accuracy: 0.87% | Test loss: 0.57653, Test acc: 0.90%\n",
      "Epoch: 4800 | Loss: 0.56044, Accuracy: 0.87% | Test loss: 0.57653, Test acc: 0.90%\n",
      "Epoch: 4810 | Loss: 0.56044, Accuracy: 0.87% | Test loss: 0.57654, Test acc: 0.90%\n",
      "Epoch: 4820 | Loss: 0.56044, Accuracy: 0.87% | Test loss: 0.57654, Test acc: 0.90%\n",
      "Epoch: 4830 | Loss: 0.56043, Accuracy: 0.87% | Test loss: 0.57654, Test acc: 0.90%\n",
      "Epoch: 4840 | Loss: 0.56043, Accuracy: 0.87% | Test loss: 0.57655, Test acc: 0.90%\n",
      "Epoch: 4850 | Loss: 0.56043, Accuracy: 0.87% | Test loss: 0.57655, Test acc: 0.90%\n",
      "Epoch: 4860 | Loss: 0.56043, Accuracy: 0.87% | Test loss: 0.57656, Test acc: 0.90%\n",
      "Epoch: 4870 | Loss: 0.56042, Accuracy: 0.87% | Test loss: 0.57656, Test acc: 0.90%\n",
      "Epoch: 4880 | Loss: 0.56042, Accuracy: 0.87% | Test loss: 0.57656, Test acc: 0.90%\n",
      "Epoch: 4890 | Loss: 0.56042, Accuracy: 0.87% | Test loss: 0.57657, Test acc: 0.90%\n",
      "Epoch: 4900 | Loss: 0.56041, Accuracy: 0.87% | Test loss: 0.57657, Test acc: 0.90%\n",
      "Epoch: 4910 | Loss: 0.56041, Accuracy: 0.87% | Test loss: 0.57658, Test acc: 0.90%\n",
      "Epoch: 4920 | Loss: 0.56041, Accuracy: 0.87% | Test loss: 0.57658, Test acc: 0.90%\n",
      "Epoch: 4930 | Loss: 0.56040, Accuracy: 0.87% | Test loss: 0.57658, Test acc: 0.90%\n",
      "Epoch: 4940 | Loss: 0.56040, Accuracy: 0.87% | Test loss: 0.57659, Test acc: 0.90%\n",
      "Epoch: 4950 | Loss: 0.56040, Accuracy: 0.87% | Test loss: 0.57659, Test acc: 0.90%\n",
      "Epoch: 4960 | Loss: 0.56040, Accuracy: 0.87% | Test loss: 0.57660, Test acc: 0.90%\n",
      "Epoch: 4970 | Loss: 0.56039, Accuracy: 0.87% | Test loss: 0.57660, Test acc: 0.90%\n",
      "Epoch: 4980 | Loss: 0.56039, Accuracy: 0.87% | Test loss: 0.57660, Test acc: 0.90%\n",
      "Epoch: 4990 | Loss: 0.56039, Accuracy: 0.87% | Test loss: 0.57661, Test acc: 0.90%\n",
      "Epoch: 5000 | Loss: 0.56038, Accuracy: 0.87% | Test loss: 0.57661, Test acc: 0.90%\n"
     ]
    }
   ],
   "source": [
    "loss_fn = nn.BCEWithLogitsLoss()\n",
    "\n",
    "trloss = []\n",
    "tloss = []\n",
    "n_epoch = []\n",
    "acc = []\n",
    "tacc = []\n",
    "\n",
    "optimizer = torch.optim.Adam(model.parameters(), lr=ALPHA)  # optimizer\n",
    "\n",
    "\n",
    "# Iteration\n",
    "\n",
    "for epoch in range(EPOCHS):\n",
    "    ### Training\n",
    "    model.train()\n",
    "\n",
    "    # 1. Forward pass (model outputs raw logits)\n",
    "    y_logits = model(train_X).squeeze() # squeeze to remove extra `1` dimensions, \n",
    "                                        #this won't work unless model and data are on same device\n",
    "    y_pred = torch.round(y_logits)  \n",
    "    \n",
    "    # turn logits -> pred probs -> pred labls\n",
    "    \n",
    "    # 2. Calculate loss/accuracy\n",
    "   \n",
    "    loss = loss_fn(y_logits, train_y)  # Using nn.BCEWithLogitsLoss works with raw logit\n",
    "    accuracy = accuracy_score(train_y.cpu(), y_pred.data.cpu())\n",
    "\n",
    "    trloss.append(loss.data.item())\n",
    "    acc.append(accuracy)\n",
    "\n",
    "    # 3. Optimizer zero grad\n",
    "    optimizer.zero_grad()\n",
    "\n",
    "    # 4. Loss backwards\n",
    "    loss.backward()\n",
    "\n",
    "    # 5. Optimizer step\n",
    "    optimizer.step()\n",
    "\n",
    "    ### Testing\n",
    "    model.eval()\n",
    "    with torch.inference_mode():\n",
    "        # 1. Forward pass\n",
    "        \n",
    "        test_logits = model(test_X).squeeze()\n",
    "        test_pred = torch.round(test_logits)\n",
    "        \n",
    "        # 2. Caculate loss/accuracy\n",
    "        test_loss = loss_fn(test_logits, test_y)\n",
    "        test_acc = accuracy_score(test_y.cpu(), test_pred.data.cpu())\n",
    "\n",
    "        tloss.append(test_loss.data.item())\n",
    "        tacc.append(test_acc)\n",
    "        n_epoch.append(epoch)\n",
    "\n",
    "    # Print out what's happening every 10 epochs\n",
    "    if epoch % 10 == 0:\n",
    "        print(\n",
    "            f\"Epoch: {epoch} | Loss: {loss.data.item():.5f}, Accuracy: {accuracy:.2f}% | Test loss: {test_loss.data.item():.5f}, Test acc: {test_acc:.2f}%\"\n",
    "        )"
   ]
  },
  {
   "cell_type": "code",
   "execution_count": 882,
   "metadata": {},
   "outputs": [
    {
     "data": {
      "text/plain": [
       "[Parameter containing:\n",
       " tensor([[  8.1936, -36.3593]], device='cuda:0', requires_grad=True),\n",
       " Parameter containing:\n",
       " tensor([0.7873], device='cuda:0', requires_grad=True)]"
      ]
     },
     "execution_count": 882,
     "metadata": {},
     "output_type": "execute_result"
    }
   ],
   "source": [
    "list(model.parameters())"
   ]
  },
  {
   "cell_type": "code",
   "execution_count": 883,
   "metadata": {},
   "outputs": [
    {
     "data": {
      "text/html": [
       "<div>\n",
       "<style scoped>\n",
       "    .dataframe tbody tr th:only-of-type {\n",
       "        vertical-align: middle;\n",
       "    }\n",
       "\n",
       "    .dataframe tbody tr th {\n",
       "        vertical-align: top;\n",
       "    }\n",
       "\n",
       "    .dataframe thead th {\n",
       "        text-align: right;\n",
       "    }\n",
       "</style>\n",
       "<table border=\"1\" class=\"dataframe\">\n",
       "  <thead>\n",
       "    <tr style=\"text-align: right;\">\n",
       "      <th></th>\n",
       "      <th>epoch</th>\n",
       "      <th>loss</th>\n",
       "      <th>test loss</th>\n",
       "      <th>acc</th>\n",
       "      <th>test acc</th>\n",
       "    </tr>\n",
       "  </thead>\n",
       "  <tbody>\n",
       "    <tr>\n",
       "      <th>0</th>\n",
       "      <td>0</td>\n",
       "      <td>0.735006</td>\n",
       "      <td>0.757036</td>\n",
       "      <td>0.418889</td>\n",
       "      <td>0.58</td>\n",
       "    </tr>\n",
       "    <tr>\n",
       "      <th>1</th>\n",
       "      <td>1</td>\n",
       "      <td>0.723361</td>\n",
       "      <td>0.741939</td>\n",
       "      <td>0.488889</td>\n",
       "      <td>0.58</td>\n",
       "    </tr>\n",
       "    <tr>\n",
       "      <th>2</th>\n",
       "      <td>2</td>\n",
       "      <td>0.712288</td>\n",
       "      <td>0.727988</td>\n",
       "      <td>0.491111</td>\n",
       "      <td>0.58</td>\n",
       "    </tr>\n",
       "    <tr>\n",
       "      <th>3</th>\n",
       "      <td>3</td>\n",
       "      <td>0.701963</td>\n",
       "      <td>0.715335</td>\n",
       "      <td>0.491111</td>\n",
       "      <td>0.58</td>\n",
       "    </tr>\n",
       "    <tr>\n",
       "      <th>4</th>\n",
       "      <td>4</td>\n",
       "      <td>0.692483</td>\n",
       "      <td>0.704017</td>\n",
       "      <td>0.491111</td>\n",
       "      <td>0.58</td>\n",
       "    </tr>\n",
       "  </tbody>\n",
       "</table>\n",
       "</div>"
      ],
      "text/plain": [
       "   epoch      loss  test loss       acc  test acc\n",
       "0      0  0.735006   0.757036  0.418889      0.58\n",
       "1      1  0.723361   0.741939  0.488889      0.58\n",
       "2      2  0.712288   0.727988  0.491111      0.58\n",
       "3      3  0.701963   0.715335  0.491111      0.58\n",
       "4      4  0.692483   0.704017  0.491111      0.58"
      ]
     },
     "execution_count": 883,
     "metadata": {},
     "output_type": "execute_result"
    }
   ],
   "source": [
    "loss_df = pd.DataFrame(\n",
    "    {\"epoch\": n_epoch, \"loss\": trloss, \"test loss\": tloss, \"acc\": acc, \"test acc\": tacc}\n",
    ")\n",
    "loss_df.head()"
   ]
  },
  {
   "cell_type": "code",
   "execution_count": 884,
   "metadata": {},
   "outputs": [
    {
     "data": {
      "text/plain": [
       "<Axes: xlabel='epoch'>"
      ]
     },
     "execution_count": 884,
     "metadata": {},
     "output_type": "execute_result"
    },
    {
     "data": {
      "image/png": "[encoded data removed]",
      "text/plain": [
       "<Figure size 1500x600 with 1 Axes>"
      ]
     },
     "metadata": {},
     "output_type": "display_data"
    }
   ],
   "source": [
    "loss_df.plot(x=\"epoch\", y=[\"loss\", \"test loss\"])"
   ]
  },
  {
   "cell_type": "code",
   "execution_count": 885,
   "metadata": {},
   "outputs": [
    {
     "data": {
      "text/plain": [
       "<Axes: xlabel='epoch'>"
      ]
     },
     "execution_count": 885,
     "metadata": {},
     "output_type": "execute_result"
    },
    {
     "data": {
      "image/png": "[encoded data removed]",
      "text/plain": [
       "<Figure size 1500x600 with 1 Axes>"
      ]
     },
     "metadata": {},
     "output_type": "display_data"
    }
   ],
   "source": [
    "loss_df.plot(x=\"epoch\", y=[\"acc\", \"test acc\"])"
   ]
  },
  {
   "cell_type": "markdown",
   "metadata": {},
   "source": [
    "## 7. Predictions\n",
    "\n",
    "### Train Set"
   ]
  },
  {
   "cell_type": "code",
   "execution_count": 886,
   "metadata": {},
   "outputs": [
    {
     "name": "stdout",
     "output_type": "stream",
     "text": [
      "Accuracy score on Test Data :  0.9000\n"
     ]
    }
   ],
   "source": [
    "test_logits = model(test_X).squeeze()\n",
    "test_pred = torch.round(test_logits)\n",
    "\n",
    "# 2. Caculate loss/accuracy\n",
    "test_loss = loss_fn(test_logits, test_y)\n",
    "test_acc = accuracy_score(test_y.cpu(), test_pred.data.cpu())\n",
    "\n",
    "\n",
    "print(f\"Accuracy score on Test Data : {test_acc: .4f}\")"
   ]
  },
  {
   "cell_type": "code",
   "execution_count": 887,
   "metadata": {},
   "outputs": [
    {
     "data": {
      "text/plain": [
       "array([[55,  3],\n",
       "       [ 7, 35]], dtype=int64)"
      ]
     },
     "execution_count": 887,
     "metadata": {},
     "output_type": "execute_result"
    }
   ],
   "source": [
    "cm = confusion_matrix(test_y.cpu(), test_pred.data.cpu())\n",
    "cm"
   ]
  },
  {
   "cell_type": "code",
   "execution_count": 889,
   "metadata": {},
   "outputs": [
    {
     "data": {
      "image/png": "[encoded data removed]",
      "text/plain": [
       "<Figure size 600x600 with 1 Axes>"
      ]
     },
     "metadata": {},
     "output_type": "display_data"
    }
   ],
   "source": [
    "fig, ax = plt.subplots(figsize=(6, 6))\n",
    "\n",
    "disp = ConfusionMatrixDisplay(confusion_matrix=cm, display_labels=[0, 1])\n",
    "\n",
    "disp.plot(ax=ax, cmap=\"Blues\", colorbar=False)\n",
    "\n",
    "plt.grid()"
   ]
  }
 ],
 "metadata": {
  "kernelspec": {
   "display_name": "Python 3 (ipykernel)",
   "language": "python",
   "name": "python3"
  },
  "language_info": {
   "codemirror_mode": {
    "name": "ipython",
    "version": 3
   },
   "file_extension": ".py",
   "mimetype": "text/x-python",
   "name": "python",
   "nbconvert_exporter": "python",
   "pygments_lexer": "ipython3",
   "version": "3.11.5"
  }
 },
 "nbformat": 4,
 "nbformat_minor": 4
}
